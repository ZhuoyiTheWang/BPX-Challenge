{
 "cells": [
  {
   "attachments": {},
   "cell_type": "markdown",
   "metadata": {},
   "source": [
    "## Model Training\n",
    "#### (Use this notebook to train the neural network)"
   ]
  },
  {
   "cell_type": "code",
   "execution_count": 1,
   "metadata": {},
   "outputs": [],
   "source": [
    "#import libraries\n",
    "import pandas as pd \n",
    "from datetime import datetime, timedelta\n",
    "from glob import glob \n",
    "import tensorflow as tf\n",
    "from keras import Input, Model\n",
    "from keras.layers import Dense\n",
    "import plotly.express as px"
   ]
  },
  {
   "cell_type": "code",
   "execution_count": 2,
   "metadata": {},
   "outputs": [
    {
     "name": "stdout",
     "output_type": "stream",
     "text": [
      "<class 'pandas.core.frame.DataFrame'>\n",
      "Int64Index: 2246256 entries, 0 to 246255\n",
      "Data columns (total 3 columns):\n",
      " #   Column        Dtype         \n",
      "---  ------        -----         \n",
      " 0   timestamp     datetime64[ns]\n",
      " 1   FACILITY_ID   int64         \n",
      " 2   pressure_osi  float64       \n",
      "dtypes: datetime64[ns](1), float64(1), int64(1)\n",
      "memory usage: 68.6 MB\n"
     ]
    }
   ],
   "source": [
    "#get pressure data\n",
    "df = []\n",
    "for f in glob('data/tank_header_pressure_*.csv'):\n",
    "    df.append(pd.read_csv(f))\n",
    "\n",
    "df = pd.concat(df)\n",
    "df.drop(columns=[\"TagType\"], inplace=True)\n",
    "df.timestamp = pd.to_datetime(df.timestamp)\n",
    "df.info()"
   ]
  },
  {
   "cell_type": "code",
   "execution_count": 3,
   "metadata": {},
   "outputs": [],
   "source": [
    "# known data to build training set from\n",
    "knowns = [\n",
    "    (10085941,[(\"2021-10-19 22:42:00\",\"2021-10-28 14:57:00\")]),\n",
    "    (10085510,[(\"2022-02-14 16:43:21\",\"2022-05-13 15:28:13\")]),\n",
    "    (10086098,[(\"2022-07-24 21:12:00\",\"2022-09-21 16:57:54\")]),\n",
    "    (10085544,[(\"2022-10-13 20:40:25\",\"2022-11-27 16:55:14\")]),\n",
    "    (10111756,[(\"2022-11-12 12:00:00\",\"2023-02-23 12:00:00\")]),\n",
    "    (10085464,[(\"2022-10-13 00:00:01\",\"2022-10-13 00:00:00\")]),#not open\n",
    "    (10085694,[(\"2022-10-13 00:00:01\",\"2022-11-27 00:00:00\")]),#not open\n",
    "    (10086083,[(\"2022-11-23 23:33:29\",\"2022-12-09 14:01:30\")]),\n",
    "    (10085465,[(\"2022-05-01 07:23:24\",\"2022-06-09 09:10:06\"),(\"2022-10-05 06:58:31\",\"2022-12-23 22:49:09\")]),\n",
    "    (10167456,[(\"2022-10-13 00:00:01\",\"2022-11-27 00:00:00\")]),#not open\n",
    "    (10086084,[(\"2021-11-28 17:35:41\",\"2022-01-27 05:04:22\"),(\"2022-06-02 18:53:01\",\"2022-06-23 19:44:12\")]),\n",
    "    (10085615,[(\"2022-10-13 00:00:01\",\"2022-11-27 00:00:00\")]),#not open\n",
    "    (10094669,[(\"2023-01-31 06:04:39\",\"2023-02-02 17:42:06\"),(\"2023-02-11 01:24:57\",\"2023-02-11 13:42:51\")]),\n",
    "    (10085637,[(\"2022-10-13 00:00:01\",\"2022-11-27 00:00:00\")]),#not open\n",
    "]"
   ]
  },
  {
   "cell_type": "code",
   "execution_count": 4,
   "metadata": {},
   "outputs": [
    {
     "name": "stdout",
     "output_type": "stream",
     "text": [
      "<class 'pandas.core.frame.DataFrame'>\n",
      "Int64Index: 21001 entries, 0 to 21082\n",
      "Data columns (total 5 columns):\n",
      " #   Column        Non-Null Count  Dtype  \n",
      "---  ------        --------------  -----  \n",
      " 0   isOpen        21001 non-null  bool   \n",
      " 1   facilityMean  21001 non-null  float64\n",
      " 2   facilitySD    21001 non-null  float64\n",
      " 3   localMean     21001 non-null  float64\n",
      " 4   localSD       21001 non-null  float64\n",
      "dtypes: bool(1), float64(4)\n",
      "memory usage: 840.9 KB\n"
     ]
    }
   ],
   "source": [
    "#build training dataframe\n",
    "COLUMNS = [\"isOpen\", \"facilityMean\", \"facilitySD\", \"localMean\", \"localSD\"]\n",
    "\n",
    "all_data = []\n",
    "for facility_id, times in knowns:\n",
    "    #filter dataframe by specific facility id\n",
    "    df_facility = df[df.FACILITY_ID == facility_id].copy()\n",
    "    #time the hatch was opened and closed\n",
    "    openTimes = []\n",
    "    for open, closed in times:\n",
    "        openTimes.append((pd.to_datetime(pd.Timestamp(open)), pd.to_datetime(pd.Timestamp(closed))))\n",
    "    #get facility info\n",
    "    facilityMean = df_facility[\"pressure_osi\"].mean()\n",
    "    facilitySD = df_facility[\"pressure_osi\"].std()\n",
    "    #time to start getting data\n",
    "    tStart = df_facility[\"timestamp\"].min().round(\"4H\") + timedelta(days=2)\n",
    "    tEnd = df_facility[\"timestamp\"].max().round(\"4H\")\n",
    "    #how often to add a new datapoint\n",
    "    tFreq = timedelta(hours=4)\n",
    "\n",
    "    t = tStart\n",
    "    while t < tEnd:\n",
    "        #get local info\n",
    "        isOpen = False\n",
    "        for open, closed in openTimes:\n",
    "            if open < t < closed: isOpen = True\n",
    "        #data only from last 2 days\n",
    "        dfLocal = df_facility[(df_facility.timestamp > t-timedelta(days=2))&\n",
    "                              (df_facility.timestamp < t)]\n",
    "        localMean = dfLocal[\"pressure_osi\"].mean()\n",
    "        localSD = dfLocal[\"pressure_osi\"].std()\n",
    "\n",
    "        #append a new datapoint\n",
    "        all_data.append((isOpen, facilityMean, facilitySD, localMean, localSD))\n",
    "\n",
    "        t += tFreq\n",
    "\n",
    "#convert the list of datapoints to a dataframe\n",
    "df_all_data = pd.DataFrame(all_data, columns=COLUMNS)\n",
    "#drop any rows with a NaN\n",
    "df_all_data.dropna(inplace=True)\n",
    "\n",
    "df_all_data.info()"
   ]
  },
  {
   "cell_type": "code",
   "execution_count": 5,
   "metadata": {},
   "outputs": [
    {
     "data": {
      "text/plain": [
       "<TensorSliceDataset element_spec=(TensorSpec(shape=(4,), dtype=tf.float64, name=None), TensorSpec(shape=(), dtype=tf.bool, name=None))>"
      ]
     },
     "execution_count": 5,
     "metadata": {},
     "output_type": "execute_result"
    }
   ],
   "source": [
    "#convert the dataframe to a tensorflow dataset\n",
    "text = df_all_data[COLUMNS[1:]]\n",
    "targets = df_all_data[COLUMNS[0]]\n",
    "dataset_all = tf.data.Dataset.from_tensor_slices((text, targets))\n",
    "dataset_all"
   ]
  },
  {
   "cell_type": "code",
   "execution_count": 6,
   "metadata": {},
   "outputs": [
    {
     "name": "stdout",
     "output_type": "stream",
     "text": [
      "Training set: <BatchDataset element_spec=(TensorSpec(shape=(None, 4), dtype=tf.float64, name=None), TensorSpec(shape=(None,), dtype=tf.bool, name=None))>\n",
      "Training set size: 2101\n",
      "Validation set: <BatchDataset element_spec=(TensorSpec(shape=(None, 4), dtype=tf.float64, name=None), TensorSpec(shape=(None,), dtype=tf.bool, name=None))>\n",
      "Validation set size: 525\n"
     ]
    }
   ],
   "source": [
    "VALIDATION_SET_SIZE = 0.2\n",
    "BATCH_SIZE = 8\n",
    "LEN = len(dataset_all)\n",
    "\n",
    "#shuffle dataset\n",
    "dataset_all = dataset_all.shuffle(LEN)\n",
    "\n",
    "#split dataset into training and validation datasets\n",
    "split = int(LEN * VALIDATION_SET_SIZE)\n",
    "dataset_training = dataset_all.skip(split).take(LEN-split)\n",
    "dataset_validation = dataset_all.take(split)\n",
    "\n",
    "#batch datasets\n",
    "dataset_training = dataset_training.batch(BATCH_SIZE)\n",
    "dataset_validation = dataset_validation.batch(BATCH_SIZE)\n",
    "\n",
    "print(\"Training set:\", dataset_training)\n",
    "print(\"Training set size:\", len(dataset_training))\n",
    "print(\"Validation set:\", dataset_validation)\n",
    "print(\"Validation set size:\", len(dataset_validation))"
   ]
  },
  {
   "cell_type": "code",
   "execution_count": 7,
   "metadata": {},
   "outputs": [],
   "source": [
    "#function used to determine model accuracy (lower is better)\n",
    "def error(true, pred):\n",
    "    #diff is the exact difference between true and predicted\n",
    "    true = tf.cast(true, float)\n",
    "    diff = tf.subtract(true, pred)\n",
    "    diff = tf.abs(diff)\n",
    "    #incentive punishes the model 3x more for false negative\n",
    "    incentive = tf.subtract(true, pred)\n",
    "    incentive = tf.multiply(incentive, true)\n",
    "    incentive = tf.multiply(incentive, 4)\n",
    "    diff = tf.add(diff, incentive)\n",
    "    return diff"
   ]
  },
  {
   "cell_type": "code",
   "execution_count": 8,
   "metadata": {},
   "outputs": [
    {
     "name": "stdout",
     "output_type": "stream",
     "text": [
      "Model: \"model\"\n",
      "_________________________________________________________________\n",
      " Layer (type)                Output Shape              Param #   \n",
      "=================================================================\n",
      " input_1 (InputLayer)        [(None, 4)]               0         \n",
      "                                                                 \n",
      " dense (Dense)               (None, 8)                 40        \n",
      "                                                                 \n",
      " dense_1 (Dense)             (None, 1)                 9         \n",
      "                                                                 \n",
      "=================================================================\n",
      "Total params: 49\n",
      "Trainable params: 49\n",
      "Non-trainable params: 0\n",
      "_________________________________________________________________\n"
     ]
    }
   ],
   "source": [
    "tf.keras.backend.clear_session()\n",
    "\n",
    "#set up the neural network\n",
    "inputs = Input(shape=(4,))                      # input layer\n",
    "x = Dense(8)(inputs)                            # dense layer\n",
    "outputs = Dense(1, activation=\"sigmoid\")(x)     # output layer\n",
    "\n",
    "model = Model(inputs, outputs)\n",
    "\n",
    "#compile the neural network\n",
    "model.compile(optimizer=tf.keras.optimizers.RMSprop(learning_rate=0.0001), loss=error)\n",
    "model.summary()"
   ]
  },
  {
   "cell_type": "code",
   "execution_count": 9,
   "metadata": {},
   "outputs": [
    {
     "name": "stdout",
     "output_type": "stream",
     "text": [
      "Epoch 1/30\n",
      "2101/2101 [==============================] - 5s 2ms/step - loss: 0.6773 - val_loss: 0.6330\n",
      "Epoch 2/30\n",
      "2101/2101 [==============================] - 4s 2ms/step - loss: 0.5995 - val_loss: 0.5770\n",
      "Epoch 3/30\n",
      "2101/2101 [==============================] - 4s 2ms/step - loss: 0.5484 - val_loss: 0.5171\n",
      "Epoch 4/30\n",
      "2101/2101 [==============================] - 4s 2ms/step - loss: 0.5022 - val_loss: 0.4945\n",
      "Epoch 5/30\n",
      "2101/2101 [==============================] - 4s 2ms/step - loss: 0.4640 - val_loss: 0.4542\n",
      "Epoch 6/30\n",
      "2101/2101 [==============================] - 4s 2ms/step - loss: 0.4377 - val_loss: 0.4290\n",
      "Epoch 7/30\n",
      "2101/2101 [==============================] - 4s 2ms/step - loss: 0.4068 - val_loss: 0.4085\n",
      "Epoch 8/30\n",
      "2101/2101 [==============================] - 4s 2ms/step - loss: 0.3929 - val_loss: 0.3858\n",
      "Epoch 9/30\n",
      "2101/2101 [==============================] - 4s 2ms/step - loss: 0.3802 - val_loss: 0.3782\n",
      "Epoch 10/30\n",
      "2101/2101 [==============================] - 4s 2ms/step - loss: 0.3695 - val_loss: 0.3674\n",
      "Epoch 11/30\n",
      "2101/2101 [==============================] - 4s 2ms/step - loss: 0.3570 - val_loss: 0.3634\n",
      "Epoch 12/30\n",
      "2101/2101 [==============================] - 4s 2ms/step - loss: 0.3543 - val_loss: 0.3604\n",
      "Epoch 13/30\n",
      "2101/2101 [==============================] - 4s 2ms/step - loss: 0.3497 - val_loss: 0.3394\n",
      "Epoch 14/30\n",
      "2101/2101 [==============================] - 4s 2ms/step - loss: 0.3373 - val_loss: 0.3213\n",
      "Epoch 15/30\n",
      "2101/2101 [==============================] - 4s 2ms/step - loss: 0.3394 - val_loss: 0.3414\n",
      "Epoch 16/30\n",
      "2101/2101 [==============================] - 4s 2ms/step - loss: 0.3350 - val_loss: 0.3284\n",
      "Epoch 17/30\n",
      "2101/2101 [==============================] - 4s 2ms/step - loss: 0.3271 - val_loss: 0.3208\n",
      "Epoch 18/30\n",
      "2101/2101 [==============================] - 4s 2ms/step - loss: 0.3297 - val_loss: 0.3344\n",
      "Epoch 19/30\n",
      "2101/2101 [==============================] - 4s 2ms/step - loss: 0.3254 - val_loss: 0.3223\n",
      "Epoch 20/30\n",
      "2101/2101 [==============================] - 4s 2ms/step - loss: 0.3246 - val_loss: 0.3203\n",
      "Epoch 21/30\n",
      "2101/2101 [==============================] - 4s 2ms/step - loss: 0.3239 - val_loss: 0.3122\n",
      "Epoch 22/30\n",
      "2101/2101 [==============================] - 5s 2ms/step - loss: 0.3183 - val_loss: 0.3138\n",
      "Epoch 23/30\n",
      "2101/2101 [==============================] - 5s 2ms/step - loss: 0.3224 - val_loss: 0.3209\n",
      "Epoch 24/30\n",
      "2101/2101 [==============================] - 4s 2ms/step - loss: 0.3150 - val_loss: 0.3005\n",
      "Epoch 25/30\n",
      "2101/2101 [==============================] - 4s 2ms/step - loss: 0.3170 - val_loss: 0.3223\n",
      "Epoch 26/30\n",
      "2101/2101 [==============================] - 4s 2ms/step - loss: 0.3179 - val_loss: 0.2995\n",
      "Epoch 27/30\n",
      "2101/2101 [==============================] - 5s 2ms/step - loss: 0.3089 - val_loss: 0.3043\n",
      "Epoch 28/30\n",
      "2101/2101 [==============================] - 5s 2ms/step - loss: 0.3158 - val_loss: 0.3077\n",
      "Epoch 29/30\n",
      "2101/2101 [==============================] - 5s 2ms/step - loss: 0.3090 - val_loss: 0.3084\n",
      "Epoch 30/30\n",
      "2101/2101 [==============================] - 5s 2ms/step - loss: 0.3093 - val_loss: 0.3118\n"
     ]
    },
    {
     "data": {
      "application/vnd.plotly.v1+json": {
       "config": {
        "plotlyServerURL": "https://plot.ly"
       },
       "data": [
        {
         "hovertemplate": "variable=loss<br>Epoch=%{x}<br>Error=%{y}<extra></extra>",
         "legendgroup": "loss",
         "line": {
          "color": "#636efa",
          "dash": "solid"
         },
         "marker": {
          "symbol": "circle"
         },
         "mode": "lines",
         "name": "loss",
         "orientation": "v",
         "showlegend": true,
         "type": "scatter",
         "x": [
          0,
          1,
          2,
          3,
          4,
          5,
          6,
          7,
          8,
          9,
          10,
          11,
          12,
          13,
          14,
          15,
          16,
          17,
          18,
          19,
          20,
          21,
          22,
          23,
          24,
          25,
          26,
          27,
          28,
          29
         ],
         "xaxis": "x",
         "y": [
          0.6773137450218201,
          0.5995457172393799,
          0.5483546853065491,
          0.5022221803665161,
          0.4639996886253357,
          0.4376955032348633,
          0.40682652592658997,
          0.3929281234741211,
          0.3802117705345154,
          0.3695434033870697,
          0.35702621936798096,
          0.3542724847793579,
          0.3496943712234497,
          0.33727091550827026,
          0.33939582109451294,
          0.3349987268447876,
          0.3271006643772125,
          0.3296680450439453,
          0.32537874579429626,
          0.3245840072631836,
          0.323851078748703,
          0.3182518780231476,
          0.3223767578601837,
          0.31496262550354004,
          0.31697380542755127,
          0.317880243062973,
          0.30892831087112427,
          0.31577369570732117,
          0.30904412269592285,
          0.3092893064022064
         ],
         "yaxis": "y"
        },
        {
         "hovertemplate": "variable=val_loss<br>Epoch=%{x}<br>Error=%{y}<extra></extra>",
         "legendgroup": "val_loss",
         "line": {
          "color": "#EF553B",
          "dash": "solid"
         },
         "marker": {
          "symbol": "circle"
         },
         "mode": "lines",
         "name": "val_loss",
         "orientation": "v",
         "showlegend": true,
         "type": "scatter",
         "x": [
          0,
          1,
          2,
          3,
          4,
          5,
          6,
          7,
          8,
          9,
          10,
          11,
          12,
          13,
          14,
          15,
          16,
          17,
          18,
          19,
          20,
          21,
          22,
          23,
          24,
          25,
          26,
          27,
          28,
          29
         ],
         "xaxis": "x",
         "y": [
          0.6329995393753052,
          0.5769660472869873,
          0.517130434513092,
          0.49450817704200745,
          0.4542492926120758,
          0.428985059261322,
          0.4084622263908386,
          0.3858122229576111,
          0.37820062041282654,
          0.36737000942230225,
          0.36339473724365234,
          0.360384464263916,
          0.3394268751144409,
          0.3213026523590088,
          0.34140294790267944,
          0.32840874791145325,
          0.3207826614379883,
          0.33436819911003113,
          0.32232245802879333,
          0.3202637732028961,
          0.3122495710849762,
          0.3137826919555664,
          0.3208874464035034,
          0.30053621530532837,
          0.32232666015625,
          0.2994866371154785,
          0.30434760451316833,
          0.307653546333313,
          0.3084031343460083,
          0.3118375539779663
         ],
         "yaxis": "y"
        }
       ],
       "layout": {
        "legend": {
         "title": {
          "text": "variable"
         },
         "tracegroupgap": 0
        },
        "template": {
         "data": {
          "bar": [
           {
            "error_x": {
             "color": "#2a3f5f"
            },
            "error_y": {
             "color": "#2a3f5f"
            },
            "marker": {
             "line": {
              "color": "#E5ECF6",
              "width": 0.5
             },
             "pattern": {
              "fillmode": "overlay",
              "size": 10,
              "solidity": 0.2
             }
            },
            "type": "bar"
           }
          ],
          "barpolar": [
           {
            "marker": {
             "line": {
              "color": "#E5ECF6",
              "width": 0.5
             },
             "pattern": {
              "fillmode": "overlay",
              "size": 10,
              "solidity": 0.2
             }
            },
            "type": "barpolar"
           }
          ],
          "carpet": [
           {
            "aaxis": {
             "endlinecolor": "#2a3f5f",
             "gridcolor": "white",
             "linecolor": "white",
             "minorgridcolor": "white",
             "startlinecolor": "#2a3f5f"
            },
            "baxis": {
             "endlinecolor": "#2a3f5f",
             "gridcolor": "white",
             "linecolor": "white",
             "minorgridcolor": "white",
             "startlinecolor": "#2a3f5f"
            },
            "type": "carpet"
           }
          ],
          "choropleth": [
           {
            "colorbar": {
             "outlinewidth": 0,
             "ticks": ""
            },
            "type": "choropleth"
           }
          ],
          "contour": [
           {
            "colorbar": {
             "outlinewidth": 0,
             "ticks": ""
            },
            "colorscale": [
             [
              0,
              "#0d0887"
             ],
             [
              0.1111111111111111,
              "#46039f"
             ],
             [
              0.2222222222222222,
              "#7201a8"
             ],
             [
              0.3333333333333333,
              "#9c179e"
             ],
             [
              0.4444444444444444,
              "#bd3786"
             ],
             [
              0.5555555555555556,
              "#d8576b"
             ],
             [
              0.6666666666666666,
              "#ed7953"
             ],
             [
              0.7777777777777778,
              "#fb9f3a"
             ],
             [
              0.8888888888888888,
              "#fdca26"
             ],
             [
              1,
              "#f0f921"
             ]
            ],
            "type": "contour"
           }
          ],
          "contourcarpet": [
           {
            "colorbar": {
             "outlinewidth": 0,
             "ticks": ""
            },
            "type": "contourcarpet"
           }
          ],
          "heatmap": [
           {
            "colorbar": {
             "outlinewidth": 0,
             "ticks": ""
            },
            "colorscale": [
             [
              0,
              "#0d0887"
             ],
             [
              0.1111111111111111,
              "#46039f"
             ],
             [
              0.2222222222222222,
              "#7201a8"
             ],
             [
              0.3333333333333333,
              "#9c179e"
             ],
             [
              0.4444444444444444,
              "#bd3786"
             ],
             [
              0.5555555555555556,
              "#d8576b"
             ],
             [
              0.6666666666666666,
              "#ed7953"
             ],
             [
              0.7777777777777778,
              "#fb9f3a"
             ],
             [
              0.8888888888888888,
              "#fdca26"
             ],
             [
              1,
              "#f0f921"
             ]
            ],
            "type": "heatmap"
           }
          ],
          "heatmapgl": [
           {
            "colorbar": {
             "outlinewidth": 0,
             "ticks": ""
            },
            "colorscale": [
             [
              0,
              "#0d0887"
             ],
             [
              0.1111111111111111,
              "#46039f"
             ],
             [
              0.2222222222222222,
              "#7201a8"
             ],
             [
              0.3333333333333333,
              "#9c179e"
             ],
             [
              0.4444444444444444,
              "#bd3786"
             ],
             [
              0.5555555555555556,
              "#d8576b"
             ],
             [
              0.6666666666666666,
              "#ed7953"
             ],
             [
              0.7777777777777778,
              "#fb9f3a"
             ],
             [
              0.8888888888888888,
              "#fdca26"
             ],
             [
              1,
              "#f0f921"
             ]
            ],
            "type": "heatmapgl"
           }
          ],
          "histogram": [
           {
            "marker": {
             "pattern": {
              "fillmode": "overlay",
              "size": 10,
              "solidity": 0.2
             }
            },
            "type": "histogram"
           }
          ],
          "histogram2d": [
           {
            "colorbar": {
             "outlinewidth": 0,
             "ticks": ""
            },
            "colorscale": [
             [
              0,
              "#0d0887"
             ],
             [
              0.1111111111111111,
              "#46039f"
             ],
             [
              0.2222222222222222,
              "#7201a8"
             ],
             [
              0.3333333333333333,
              "#9c179e"
             ],
             [
              0.4444444444444444,
              "#bd3786"
             ],
             [
              0.5555555555555556,
              "#d8576b"
             ],
             [
              0.6666666666666666,
              "#ed7953"
             ],
             [
              0.7777777777777778,
              "#fb9f3a"
             ],
             [
              0.8888888888888888,
              "#fdca26"
             ],
             [
              1,
              "#f0f921"
             ]
            ],
            "type": "histogram2d"
           }
          ],
          "histogram2dcontour": [
           {
            "colorbar": {
             "outlinewidth": 0,
             "ticks": ""
            },
            "colorscale": [
             [
              0,
              "#0d0887"
             ],
             [
              0.1111111111111111,
              "#46039f"
             ],
             [
              0.2222222222222222,
              "#7201a8"
             ],
             [
              0.3333333333333333,
              "#9c179e"
             ],
             [
              0.4444444444444444,
              "#bd3786"
             ],
             [
              0.5555555555555556,
              "#d8576b"
             ],
             [
              0.6666666666666666,
              "#ed7953"
             ],
             [
              0.7777777777777778,
              "#fb9f3a"
             ],
             [
              0.8888888888888888,
              "#fdca26"
             ],
             [
              1,
              "#f0f921"
             ]
            ],
            "type": "histogram2dcontour"
           }
          ],
          "mesh3d": [
           {
            "colorbar": {
             "outlinewidth": 0,
             "ticks": ""
            },
            "type": "mesh3d"
           }
          ],
          "parcoords": [
           {
            "line": {
             "colorbar": {
              "outlinewidth": 0,
              "ticks": ""
             }
            },
            "type": "parcoords"
           }
          ],
          "pie": [
           {
            "automargin": true,
            "type": "pie"
           }
          ],
          "scatter": [
           {
            "fillpattern": {
             "fillmode": "overlay",
             "size": 10,
             "solidity": 0.2
            },
            "type": "scatter"
           }
          ],
          "scatter3d": [
           {
            "line": {
             "colorbar": {
              "outlinewidth": 0,
              "ticks": ""
             }
            },
            "marker": {
             "colorbar": {
              "outlinewidth": 0,
              "ticks": ""
             }
            },
            "type": "scatter3d"
           }
          ],
          "scattercarpet": [
           {
            "marker": {
             "colorbar": {
              "outlinewidth": 0,
              "ticks": ""
             }
            },
            "type": "scattercarpet"
           }
          ],
          "scattergeo": [
           {
            "marker": {
             "colorbar": {
              "outlinewidth": 0,
              "ticks": ""
             }
            },
            "type": "scattergeo"
           }
          ],
          "scattergl": [
           {
            "marker": {
             "colorbar": {
              "outlinewidth": 0,
              "ticks": ""
             }
            },
            "type": "scattergl"
           }
          ],
          "scattermapbox": [
           {
            "marker": {
             "colorbar": {
              "outlinewidth": 0,
              "ticks": ""
             }
            },
            "type": "scattermapbox"
           }
          ],
          "scatterpolar": [
           {
            "marker": {
             "colorbar": {
              "outlinewidth": 0,
              "ticks": ""
             }
            },
            "type": "scatterpolar"
           }
          ],
          "scatterpolargl": [
           {
            "marker": {
             "colorbar": {
              "outlinewidth": 0,
              "ticks": ""
             }
            },
            "type": "scatterpolargl"
           }
          ],
          "scatterternary": [
           {
            "marker": {
             "colorbar": {
              "outlinewidth": 0,
              "ticks": ""
             }
            },
            "type": "scatterternary"
           }
          ],
          "surface": [
           {
            "colorbar": {
             "outlinewidth": 0,
             "ticks": ""
            },
            "colorscale": [
             [
              0,
              "#0d0887"
             ],
             [
              0.1111111111111111,
              "#46039f"
             ],
             [
              0.2222222222222222,
              "#7201a8"
             ],
             [
              0.3333333333333333,
              "#9c179e"
             ],
             [
              0.4444444444444444,
              "#bd3786"
             ],
             [
              0.5555555555555556,
              "#d8576b"
             ],
             [
              0.6666666666666666,
              "#ed7953"
             ],
             [
              0.7777777777777778,
              "#fb9f3a"
             ],
             [
              0.8888888888888888,
              "#fdca26"
             ],
             [
              1,
              "#f0f921"
             ]
            ],
            "type": "surface"
           }
          ],
          "table": [
           {
            "cells": {
             "fill": {
              "color": "#EBF0F8"
             },
             "line": {
              "color": "white"
             }
            },
            "header": {
             "fill": {
              "color": "#C8D4E3"
             },
             "line": {
              "color": "white"
             }
            },
            "type": "table"
           }
          ]
         },
         "layout": {
          "annotationdefaults": {
           "arrowcolor": "#2a3f5f",
           "arrowhead": 0,
           "arrowwidth": 1
          },
          "autotypenumbers": "strict",
          "coloraxis": {
           "colorbar": {
            "outlinewidth": 0,
            "ticks": ""
           }
          },
          "colorscale": {
           "diverging": [
            [
             0,
             "#8e0152"
            ],
            [
             0.1,
             "#c51b7d"
            ],
            [
             0.2,
             "#de77ae"
            ],
            [
             0.3,
             "#f1b6da"
            ],
            [
             0.4,
             "#fde0ef"
            ],
            [
             0.5,
             "#f7f7f7"
            ],
            [
             0.6,
             "#e6f5d0"
            ],
            [
             0.7,
             "#b8e186"
            ],
            [
             0.8,
             "#7fbc41"
            ],
            [
             0.9,
             "#4d9221"
            ],
            [
             1,
             "#276419"
            ]
           ],
           "sequential": [
            [
             0,
             "#0d0887"
            ],
            [
             0.1111111111111111,
             "#46039f"
            ],
            [
             0.2222222222222222,
             "#7201a8"
            ],
            [
             0.3333333333333333,
             "#9c179e"
            ],
            [
             0.4444444444444444,
             "#bd3786"
            ],
            [
             0.5555555555555556,
             "#d8576b"
            ],
            [
             0.6666666666666666,
             "#ed7953"
            ],
            [
             0.7777777777777778,
             "#fb9f3a"
            ],
            [
             0.8888888888888888,
             "#fdca26"
            ],
            [
             1,
             "#f0f921"
            ]
           ],
           "sequentialminus": [
            [
             0,
             "#0d0887"
            ],
            [
             0.1111111111111111,
             "#46039f"
            ],
            [
             0.2222222222222222,
             "#7201a8"
            ],
            [
             0.3333333333333333,
             "#9c179e"
            ],
            [
             0.4444444444444444,
             "#bd3786"
            ],
            [
             0.5555555555555556,
             "#d8576b"
            ],
            [
             0.6666666666666666,
             "#ed7953"
            ],
            [
             0.7777777777777778,
             "#fb9f3a"
            ],
            [
             0.8888888888888888,
             "#fdca26"
            ],
            [
             1,
             "#f0f921"
            ]
           ]
          },
          "colorway": [
           "#636efa",
           "#EF553B",
           "#00cc96",
           "#ab63fa",
           "#FFA15A",
           "#19d3f3",
           "#FF6692",
           "#B6E880",
           "#FF97FF",
           "#FECB52"
          ],
          "font": {
           "color": "#2a3f5f"
          },
          "geo": {
           "bgcolor": "white",
           "lakecolor": "white",
           "landcolor": "#E5ECF6",
           "showlakes": true,
           "showland": true,
           "subunitcolor": "white"
          },
          "hoverlabel": {
           "align": "left"
          },
          "hovermode": "closest",
          "mapbox": {
           "style": "light"
          },
          "paper_bgcolor": "white",
          "plot_bgcolor": "#E5ECF6",
          "polar": {
           "angularaxis": {
            "gridcolor": "white",
            "linecolor": "white",
            "ticks": ""
           },
           "bgcolor": "#E5ECF6",
           "radialaxis": {
            "gridcolor": "white",
            "linecolor": "white",
            "ticks": ""
           }
          },
          "scene": {
           "xaxis": {
            "backgroundcolor": "#E5ECF6",
            "gridcolor": "white",
            "gridwidth": 2,
            "linecolor": "white",
            "showbackground": true,
            "ticks": "",
            "zerolinecolor": "white"
           },
           "yaxis": {
            "backgroundcolor": "#E5ECF6",
            "gridcolor": "white",
            "gridwidth": 2,
            "linecolor": "white",
            "showbackground": true,
            "ticks": "",
            "zerolinecolor": "white"
           },
           "zaxis": {
            "backgroundcolor": "#E5ECF6",
            "gridcolor": "white",
            "gridwidth": 2,
            "linecolor": "white",
            "showbackground": true,
            "ticks": "",
            "zerolinecolor": "white"
           }
          },
          "shapedefaults": {
           "line": {
            "color": "#2a3f5f"
           }
          },
          "ternary": {
           "aaxis": {
            "gridcolor": "white",
            "linecolor": "white",
            "ticks": ""
           },
           "baxis": {
            "gridcolor": "white",
            "linecolor": "white",
            "ticks": ""
           },
           "bgcolor": "#E5ECF6",
           "caxis": {
            "gridcolor": "white",
            "linecolor": "white",
            "ticks": ""
           }
          },
          "title": {
           "x": 0.05
          },
          "xaxis": {
           "automargin": true,
           "gridcolor": "white",
           "linecolor": "white",
           "ticks": "",
           "title": {
            "standoff": 15
           },
           "zerolinecolor": "white",
           "zerolinewidth": 2
          },
          "yaxis": {
           "automargin": true,
           "gridcolor": "white",
           "linecolor": "white",
           "ticks": "",
           "title": {
            "standoff": 15
           },
           "zerolinecolor": "white",
           "zerolinewidth": 2
          }
         }
        },
        "title": {
         "text": "Training History"
        },
        "xaxis": {
         "anchor": "y",
         "domain": [
          0,
          1
         ],
         "title": {
          "text": "Epoch"
         }
        },
        "yaxis": {
         "anchor": "x",
         "domain": [
          0,
          1
         ],
         "title": {
          "text": "Error"
         }
        }
       }
      }
     },
     "metadata": {},
     "output_type": "display_data"
    }
   ],
   "source": [
    "#train the neural network\n",
    "history = model.fit(dataset_training, validation_data=dataset_validation, epochs=30)\n",
    "\n",
    "#plot the model's progress\n",
    "fig = px.line(\n",
    "    history.history, y=['loss', 'val_loss'],\n",
    "    labels={'index': 'Epoch', 'value': 'Error'}, \n",
    "    title='Training History')\n",
    "fig"
   ]
  },
  {
   "cell_type": "code",
   "execution_count": 10,
   "metadata": {},
   "outputs": [
    {
     "name": "stdout",
     "output_type": "stream",
     "text": [
      "1/1 [==============================] - 0s 141ms/step\n",
      "1/1 [==============================] - 0s 32ms/step\n",
      "1/1 [==============================] - 0s 39ms/step\n",
      "1/1 [==============================] - 0s 29ms/step\n",
      "this should be close to 1 -> 0.9988559\n",
      "this should be close to 1 -> 0.9988765\n",
      "this should be close to 0 -> 1.4796717e-06\n",
      "this should be close to 0 -> 5.633556e-05\n"
     ]
    }
   ],
   "source": [
    "#verify model on a known test case and 4 known times\n",
    "test_facility = 10085460\n",
    "test_times = ['2022-08-17 15:14:00','2022-08-23 12:00:00','2022-09-05 19:45:00','2022-07-01 02:03:00']\n",
    "df_460 = df[df.FACILITY_ID == test_facility].copy()\n",
    "facilityMean = df_460[\"pressure_osi\"].mean()\n",
    "facilitySD = df_460[\"pressure_osi\"].std()\n",
    "\n",
    "preds = []\n",
    "for t in test_times:\n",
    "    time = pd.to_datetime(pd.Timestamp(t))\n",
    "    dfLocal = df_460[(df_460.timestamp > time-timedelta(days=1))&(df_460.timestamp < time+timedelta(days=1))]\n",
    "    localMean = dfLocal[\"pressure_osi\"].mean()\n",
    "    localSD = dfLocal[\"pressure_osi\"].std()\n",
    "    \n",
    "    testInput = tf.constant([[facilityMean, facilitySD, localMean, localSD]])\n",
    "    preds.append(model.predict(testInput)[0][0].round(20))\n",
    "\n",
    "print(\"this should be close to 1 ->\", preds[0])\n",
    "print(\"this should be close to 1 ->\", preds[1])\n",
    "print(\"this should be close to 0 ->\", preds[2])\n",
    "print(\"this should be close to 0 ->\", preds[3])"
   ]
  },
  {
   "cell_type": "code",
   "execution_count": 11,
   "metadata": {},
   "outputs": [
    {
     "name": "stdout",
     "output_type": "stream",
     "text": [
      "INFO:tensorflow:Assets written to: models/model\\assets\n"
     ]
    }
   ],
   "source": [
    "#save the model to 'models/model'\n",
    "model.save(\"models/model\")"
   ]
  }
 ],
 "metadata": {
  "kernelspec": {
   "display_name": "base",
   "language": "python",
   "name": "python3"
  },
  "language_info": {
   "codemirror_mode": {
    "name": "ipython",
    "version": 3
   },
   "file_extension": ".py",
   "mimetype": "text/x-python",
   "name": "python",
   "nbconvert_exporter": "python",
   "pygments_lexer": "ipython3",
   "version": "3.9.13"
  },
  "orig_nbformat": 4
 },
 "nbformat": 4,
 "nbformat_minor": 2
}
